{
 "cells": [
  {
   "cell_type": "code",
   "execution_count": null,
   "id": "initial_id",
   "metadata": {
    "collapsed": true,
    "ExecuteTime": {
     "end_time": "2024-01-31T06:30:42.739979500Z",
     "start_time": "2024-01-31T06:30:42.729089700Z"
    }
   },
   "outputs": [],
   "source": []
  },
  {
   "cell_type": "code",
   "outputs": [],
   "source": [
    "creates = {\n",
    "\n",
    "            'users': {\n",
    "                'type': 'directory',\n",
    "                'base': {\n",
    "                    'type': 'df',\n",
    "                    'columns': ['user', 'pwd', 'surName', 'givenName', 'imgSrc', 'createTime']\n",
    "                },\n",
    "                'patients': {\n",
    "                    'type': 'df',\n",
    "                    'columns': ['user', 'uniqueID', 'name', 'age', 'gender', 'bed', 'diagnosis', 'status', 'admissions']\n",
    "                },\n",
    "                'img': {\n",
    "                    'type': 'directory'\n",
    "                }\n",
    "            },\n",
    "\n",
    "            'patients': {\n",
    "                    'type': 'directory'\n",
    "                }\n",
    "        }"
   ],
   "metadata": {
    "collapsed": false,
    "ExecuteTime": {
     "end_time": "2024-01-31T06:40:26.354536700Z",
     "start_time": "2024-01-31T06:40:26.339427400Z"
    }
   },
   "id": "20b4c264cde7d469",
   "execution_count": 2
  },
  {
   "cell_type": "code",
   "outputs": [
    {
     "ename": "TypeError",
     "evalue": "string indices must be integers",
     "output_type": "error",
     "traceback": [
      "\u001B[1;31m---------------------------------------------------------------------------\u001B[0m",
      "\u001B[1;31mTypeError\u001B[0m                                 Traceback (most recent call last)",
      "Cell \u001B[1;32mIn[6], line 23\u001B[0m\n\u001B[0;32m     17\u001B[0m             \u001B[38;5;66;03m# 这里你可以执行其他与DataFrame相关的操作\u001B[39;00m\n\u001B[0;32m     18\u001B[0m \n\u001B[0;32m     19\u001B[0m             \u001B[38;5;66;03m# 输出DataFrame对象信息（仅作为示例）\u001B[39;00m\n\u001B[0;32m     20\u001B[0m             \u001B[38;5;28mprint\u001B[39m(\u001B[38;5;124mf\u001B[39m\u001B[38;5;124m\"\u001B[39m\u001B[38;5;124mCreated DataFrame \u001B[39m\u001B[38;5;124m'\u001B[39m\u001B[38;5;132;01m{\u001B[39;00mdf_name\u001B[38;5;132;01m}\u001B[39;00m\u001B[38;5;124m'\u001B[39m\u001B[38;5;124m at path \u001B[39m\u001B[38;5;124m'\u001B[39m\u001B[38;5;132;01m{\u001B[39;00mdf_path\u001B[38;5;132;01m}\u001B[39;00m\u001B[38;5;124m'\u001B[39m\u001B[38;5;124m:\u001B[39m\u001B[38;5;130;01m\\n\u001B[39;00m\u001B[38;5;132;01m{\u001B[39;00mdf\u001B[38;5;132;01m}\u001B[39;00m\u001B[38;5;124m\"\u001B[39m)\n\u001B[1;32m---> 23\u001B[0m \u001B[43mcreate_structure\u001B[49m\u001B[43m(\u001B[49m\u001B[43mcreates\u001B[49m\u001B[43m)\u001B[49m\n",
      "Cell \u001B[1;32mIn[6], line 9\u001B[0m, in \u001B[0;36mcreate_structure\u001B[1;34m(data, current_path)\u001B[0m\n\u001B[0;32m      7\u001B[0m     directory_path \u001B[38;5;241m=\u001B[39m os\u001B[38;5;241m.\u001B[39mpath\u001B[38;5;241m.\u001B[39mjoin(current_path, key)\n\u001B[0;32m      8\u001B[0m     os\u001B[38;5;241m.\u001B[39mmakedirs(directory_path, exist_ok\u001B[38;5;241m=\u001B[39m\u001B[38;5;28;01mTrue\u001B[39;00m)\n\u001B[1;32m----> 9\u001B[0m     \u001B[43mcreate_structure\u001B[49m\u001B[43m(\u001B[49m\u001B[43mvalue\u001B[49m\u001B[43m,\u001B[49m\u001B[43m \u001B[49m\u001B[43mdirectory_path\u001B[49m\u001B[43m)\u001B[49m\n\u001B[0;32m     10\u001B[0m \u001B[38;5;28;01melif\u001B[39;00m value[\u001B[38;5;124m'\u001B[39m\u001B[38;5;124mtype\u001B[39m\u001B[38;5;124m'\u001B[39m] \u001B[38;5;241m==\u001B[39m \u001B[38;5;124m'\u001B[39m\u001B[38;5;124mdf\u001B[39m\u001B[38;5;124m'\u001B[39m:\n\u001B[0;32m     11\u001B[0m     df_columns \u001B[38;5;241m=\u001B[39m value[\u001B[38;5;124m'\u001B[39m\u001B[38;5;124mcolumns\u001B[39m\u001B[38;5;124m'\u001B[39m]\n",
      "Cell \u001B[1;32mIn[6], line 6\u001B[0m, in \u001B[0;36mcreate_structure\u001B[1;34m(data, current_path)\u001B[0m\n\u001B[0;32m      4\u001B[0m \u001B[38;5;28;01mdef\u001B[39;00m \u001B[38;5;21mcreate_structure\u001B[39m(data, current_path\u001B[38;5;241m=\u001B[39m\u001B[38;5;124m'\u001B[39m\u001B[38;5;124m'\u001B[39m):\n\u001B[0;32m      5\u001B[0m     \u001B[38;5;28;01mfor\u001B[39;00m key, value \u001B[38;5;129;01min\u001B[39;00m data\u001B[38;5;241m.\u001B[39mitems():\n\u001B[1;32m----> 6\u001B[0m         \u001B[38;5;28;01mif\u001B[39;00m \u001B[43mvalue\u001B[49m\u001B[43m[\u001B[49m\u001B[38;5;124;43m'\u001B[39;49m\u001B[38;5;124;43mtype\u001B[39;49m\u001B[38;5;124;43m'\u001B[39;49m\u001B[43m]\u001B[49m \u001B[38;5;241m==\u001B[39m \u001B[38;5;124m'\u001B[39m\u001B[38;5;124mdirectory\u001B[39m\u001B[38;5;124m'\u001B[39m:\n\u001B[0;32m      7\u001B[0m             directory_path \u001B[38;5;241m=\u001B[39m os\u001B[38;5;241m.\u001B[39mpath\u001B[38;5;241m.\u001B[39mjoin(current_path, key)\n\u001B[0;32m      8\u001B[0m             os\u001B[38;5;241m.\u001B[39mmakedirs(directory_path, exist_ok\u001B[38;5;241m=\u001B[39m\u001B[38;5;28;01mTrue\u001B[39;00m)\n",
      "\u001B[1;31mTypeError\u001B[0m: string indices must be integers"
     ]
    }
   ],
   "source": [
    "import os\n",
    "import pandas as pd\n",
    "\n",
    "def create_structure(data, current_path=''):\n",
    "    for key, value in data.items():\n",
    "        if value['type'] == 'directory':\n",
    "            directory_path = os.path.join(current_path, key)\n",
    "            os.makedirs(directory_path, exist_ok=True)\n",
    "            create_structure(value, directory_path)\n",
    "        elif value['type'] == 'df':\n",
    "            df_columns = value['columns']\n",
    "            df_name = key\n",
    "            df_path = os.path.join(current_path, df_name)\n",
    "\n",
    "            # 创建DataFrame对象\n",
    "            df = pd.DataFrame(columns=df_columns)\n",
    "            # 这里你可以执行其他与DataFrame相关的操作\n",
    "\n",
    "            # 输出DataFrame对象信息（仅作为示例）\n",
    "            print(f\"Created DataFrame '{df_name}' at path '{df_path}':\\n{df}\")\n",
    "\n",
    "\n",
    "create_structure(creates)\n"
   ],
   "metadata": {
    "collapsed": false,
    "ExecuteTime": {
     "end_time": "2024-01-31T06:41:38.454471300Z",
     "start_time": "2024-01-31T06:41:38.429001900Z"
    }
   },
   "id": "c091e6bfc86ffac5",
   "execution_count": 6
  },
  {
   "cell_type": "code",
   "outputs": [],
   "source": [
    "from pandas import DataFrame\n",
    "a = DataFrame(columns=['user', 'uniqueID', 'name', 'age', ''])"
   ],
   "metadata": {
    "collapsed": false,
    "ExecuteTime": {
     "end_time": "2024-01-31T08:37:37.745511600Z",
     "start_time": "2024-01-31T08:37:37.738387500Z"
    }
   },
   "id": "415be8e50af58687",
   "execution_count": 11
  },
  {
   "cell_type": "code",
   "outputs": [
    {
     "data": {
      "text/plain": "{'user': {}, 'uniqueID': {}, 'name': {}}"
     },
     "execution_count": 20,
     "metadata": {},
     "output_type": "execute_result"
    }
   ],
   "source": [
    "a.loc[:, ['user', 'uniqueID', 'name']].to_dict()"
   ],
   "metadata": {
    "collapsed": false,
    "ExecuteTime": {
     "end_time": "2024-01-31T08:39:32.898705200Z",
     "start_time": "2024-01-31T08:39:32.885060900Z"
    }
   },
   "id": "3c832cb150326dfd",
   "execution_count": 20
  }
 ],
 "metadata": {
  "kernelspec": {
   "display_name": "Python 3",
   "language": "python",
   "name": "python3"
  },
  "language_info": {
   "codemirror_mode": {
    "name": "ipython",
    "version": 2
   },
   "file_extension": ".py",
   "mimetype": "text/x-python",
   "name": "python",
   "nbconvert_exporter": "python",
   "pygments_lexer": "ipython2",
   "version": "2.7.6"
  }
 },
 "nbformat": 4,
 "nbformat_minor": 5
}
